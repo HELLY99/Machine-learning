{
  "nbformat": 4,
  "nbformat_minor": 0,
  "metadata": {
    "colab": {
      "name": "naive_bayes.ipynb",
      "provenance": []
    },
    "kernelspec": {
      "name": "python3",
      "display_name": "Python 3"
    }
  },
  "cells": [
    {
      "cell_type": "code",
      "metadata": {
        "id": "reMlb5HRMzci",
        "colab_type": "code",
        "colab": {}
      },
      "source": [
        "import numpy as np \n",
        "import pandas as pd\n",
        "from sklearn import datasets \n",
        "from sklearn.naive_bayes import GaussianNB\n",
        "from sklearn.model_selection import train_test_split"
      ],
      "execution_count": 2,
      "outputs": []
    },
    {
      "cell_type": "code",
      "metadata": {
        "id": "Ta8tRuv6Wgq9",
        "colab_type": "code",
        "colab": {}
      },
      "source": [
        "df=datasets.load_wine()"
      ],
      "execution_count": 3,
      "outputs": []
    },
    {
      "cell_type": "code",
      "metadata": {
        "id": "E0wsNabyWwmR",
        "colab_type": "code",
        "colab": {}
      },
      "source": [
        "x=df.data"
      ],
      "execution_count": 4,
      "outputs": []
    },
    {
      "cell_type": "code",
      "metadata": {
        "id": "5fW0Es2BWyV4",
        "colab_type": "code",
        "colab": {}
      },
      "source": [
        "y=df.target"
      ],
      "execution_count": 5,
      "outputs": []
    },
    {
      "cell_type": "code",
      "metadata": {
        "id": "7xwaaiTmW1im",
        "colab_type": "code",
        "colab": {}
      },
      "source": [
        "x_train,x_test,y_train,y_test= train_test_split(x,y,test_size=0.24,random_state=5)"
      ],
      "execution_count": 6,
      "outputs": []
    },
    {
      "cell_type": "code",
      "metadata": {
        "id": "8xZmupo2XB66",
        "colab_type": "code",
        "colab": {
          "base_uri": "https://localhost:8080/",
          "height": 34
        },
        "outputId": "ee8b7e39-7d0a-4560-e7bc-9d8112aad840"
      },
      "source": [
        "GNB = GaussianNB()\n",
        "GNB.fit(x_train,y_train)"
      ],
      "execution_count": 7,
      "outputs": [
        {
          "output_type": "execute_result",
          "data": {
            "text/plain": [
              "GaussianNB(priors=None, var_smoothing=1e-09)"
            ]
          },
          "metadata": {
            "tags": []
          },
          "execution_count": 7
        }
      ]
    },
    {
      "cell_type": "code",
      "metadata": {
        "id": "RB1pt0KNXM45",
        "colab_type": "code",
        "colab": {
          "base_uri": "https://localhost:8080/",
          "height": 34
        },
        "outputId": "6ddb3e34-c6b9-4f2f-c373-1b0322374754"
      },
      "source": [
        "print('training accuracy:',GNB.score(x_train,y_train)*100,'%')"
      ],
      "execution_count": 8,
      "outputs": [
        {
          "output_type": "stream",
          "text": [
            "training accuracy: 99.25925925925925 %\n"
          ],
          "name": "stdout"
        }
      ]
    },
    {
      "cell_type": "code",
      "metadata": {
        "id": "OTyF2igoX3Je",
        "colab_type": "code",
        "colab": {}
      },
      "source": [
        "y_predictions = GNB.predict(x_test)"
      ],
      "execution_count": 12,
      "outputs": []
    },
    {
      "cell_type": "code",
      "metadata": {
        "id": "HenmxUV0Xa1_",
        "colab_type": "code",
        "colab": {
          "base_uri": "https://localhost:8080/",
          "height": 34
        },
        "outputId": "dfc049e0-64ec-44a2-b00b-3a4f3d8e9fdf"
      },
      "source": [
        "print('testing accuracy:',GNB.score(x_test,y_test)*100,'%')"
      ],
      "execution_count": 13,
      "outputs": [
        {
          "output_type": "stream",
          "text": [
            "testing accuracy: 93.02325581395348 %\n"
          ],
          "name": "stdout"
        }
      ]
    },
    {
      "cell_type": "code",
      "metadata": {
        "id": "PNcwpavIXmFl",
        "colab_type": "code",
        "colab": {
          "base_uri": "https://localhost:8080/",
          "height": 50
        },
        "outputId": "642a9502-60c4-4692-d5a8-bf21b9165594"
      },
      "source": [
        "y_test"
      ],
      "execution_count": 14,
      "outputs": [
        {
          "output_type": "execute_result",
          "data": {
            "text/plain": [
              "array([0, 1, 0, 0, 2, 2, 0, 0, 1, 0, 0, 0, 2, 1, 2, 0, 1, 0, 1, 0, 0, 0,\n",
              "       1, 1, 1, 1, 0, 2, 2, 0, 1, 1, 0, 0, 2, 2, 0, 2, 2, 1, 1, 1, 2])"
            ]
          },
          "metadata": {
            "tags": []
          },
          "execution_count": 14
        }
      ]
    },
    {
      "cell_type": "code",
      "metadata": {
        "id": "BW-Xo7FAXsUe",
        "colab_type": "code",
        "colab": {
          "base_uri": "https://localhost:8080/",
          "height": 50
        },
        "outputId": "3b4d63ed-0773-423c-8f23-c0627c810bfa"
      },
      "source": [
        "y_predictions"
      ],
      "execution_count": 15,
      "outputs": [
        {
          "output_type": "execute_result",
          "data": {
            "text/plain": [
              "array([0, 1, 0, 0, 2, 2, 0, 0, 1, 1, 0, 0, 2, 1, 2, 0, 1, 1, 1, 1, 0, 0,\n",
              "       1, 1, 1, 1, 0, 2, 2, 0, 1, 1, 0, 0, 2, 2, 0, 2, 2, 1, 1, 1, 2])"
            ]
          },
          "metadata": {
            "tags": []
          },
          "execution_count": 15
        }
      ]
    },
    {
      "cell_type": "code",
      "metadata": {
        "id": "fBh4j1PhXuhZ",
        "colab_type": "code",
        "colab": {}
      },
      "source": [
        "y_prba = GNB.predict_proba(x_test)"
      ],
      "execution_count": 16,
      "outputs": []
    },
    {
      "cell_type": "code",
      "metadata": {
        "id": "d-LgeTX2YXMf",
        "colab_type": "code",
        "colab": {
          "base_uri": "https://localhost:8080/",
          "height": 739
        },
        "outputId": "d8edda81-5926-44e6-dae3-f5cbcd40433b"
      },
      "source": [
        "y_prba"
      ],
      "execution_count": 17,
      "outputs": [
        {
          "output_type": "execute_result",
          "data": {
            "text/plain": [
              "array([[9.99997175e-01, 2.82482825e-06, 1.59430257e-32],\n",
              "       [1.57420979e-01, 8.42579021e-01, 5.24714063e-31],\n",
              "       [1.00000000e+00, 4.79234397e-21, 6.59974595e-48],\n",
              "       [1.00000000e+00, 2.38748731e-11, 2.08799633e-30],\n",
              "       [7.01027439e-23, 2.77402829e-07, 9.99999723e-01],\n",
              "       [2.10736731e-20, 5.03651149e-22, 1.00000000e+00],\n",
              "       [1.00000000e+00, 3.28030966e-11, 4.96204882e-26],\n",
              "       [9.99999917e-01, 8.28846606e-08, 5.59333944e-33],\n",
              "       [6.21989198e-05, 9.99937801e-01, 8.56571558e-23],\n",
              "       [8.69552744e-04, 9.99130447e-01, 1.11853398e-23],\n",
              "       [9.99983841e-01, 1.61585362e-05, 2.33784880e-29],\n",
              "       [1.00000000e+00, 1.40511358e-10, 4.20374358e-27],\n",
              "       [7.99250399e-18, 1.07429998e-04, 9.99892570e-01],\n",
              "       [8.11198799e-12, 1.00000000e+00, 3.66738162e-10],\n",
              "       [8.20264250e-20, 3.92718667e-04, 9.99607281e-01],\n",
              "       [9.99999993e-01, 7.24184057e-09, 1.53231979e-29],\n",
              "       [7.91495599e-08, 9.99999921e-01, 9.80067347e-21],\n",
              "       [8.73910916e-02, 9.12608908e-01, 4.95252844e-14],\n",
              "       [9.50828594e-09, 9.99999990e-01, 4.28462928e-16],\n",
              "       [4.96140883e-01, 5.03859117e-01, 9.08872323e-20],\n",
              "       [1.00000000e+00, 1.52255744e-11, 2.76257574e-31],\n",
              "       [1.00000000e+00, 3.12290852e-12, 1.39446516e-33],\n",
              "       [2.04788560e-04, 9.99795211e-01, 6.33735131e-19],\n",
              "       [1.91307936e-16, 9.98858280e-01, 1.14172030e-03],\n",
              "       [2.21266827e-08, 9.99999978e-01, 5.07719114e-14],\n",
              "       [2.94731340e-10, 1.00000000e+00, 1.82939740e-17],\n",
              "       [1.00000000e+00, 7.62928077e-15, 1.19158304e-32],\n",
              "       [2.46839162e-14, 2.99554351e-02, 9.70044565e-01],\n",
              "       [5.88943315e-21, 4.08418698e-12, 1.00000000e+00],\n",
              "       [1.00000000e+00, 2.40008360e-10, 6.98743275e-41],\n",
              "       [2.32036265e-10, 1.00000000e+00, 3.32188656e-15],\n",
              "       [5.98222670e-05, 9.99940178e-01, 1.03745968e-10],\n",
              "       [9.98450911e-01, 1.54908886e-03, 1.17366149e-25],\n",
              "       [9.99993133e-01, 6.86689279e-06, 3.24504345e-30],\n",
              "       [8.55790845e-22, 7.49217872e-06, 9.99992508e-01],\n",
              "       [3.05642800e-22, 3.42710038e-17, 1.00000000e+00],\n",
              "       [9.99999999e-01, 1.16645753e-09, 2.09511168e-27],\n",
              "       [1.20778432e-19, 1.40716794e-03, 9.98592832e-01],\n",
              "       [5.18981175e-23, 7.27044002e-15, 1.00000000e+00],\n",
              "       [1.58432555e-02, 9.84156744e-01, 2.44958247e-20],\n",
              "       [6.97027743e-13, 9.99999998e-01, 1.56901339e-09],\n",
              "       [5.70025712e-12, 5.76645610e-01, 4.23354390e-01],\n",
              "       [3.09421248e-30, 1.12972074e-05, 9.99988703e-01]])"
            ]
          },
          "metadata": {
            "tags": []
          },
          "execution_count": 17
        }
      ]
    },
    {
      "cell_type": "code",
      "metadata": {
        "id": "BkvKK9QAYZcr",
        "colab_type": "code",
        "colab": {}
      },
      "source": [
        ""
      ],
      "execution_count": null,
      "outputs": []
    }
  ]
}