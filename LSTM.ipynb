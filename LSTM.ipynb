{
  "nbformat": 4,
  "nbformat_minor": 0,
  "metadata": {
    "colab": {
      "name": "LSTM.ipynb",
      "provenance": []
    },
    "kernelspec": {
      "name": "python3",
      "display_name": "Python 3"
    }
  },
  "cells": [
    {
      "cell_type": "code",
      "metadata": {
        "id": "trRF-Syu1DyB",
        "colab_type": "code",
        "colab": {}
      },
      "source": [
        "import numpy as np\n",
        "from keras.datasets import imdb\n",
        "from keras.models import Sequential\n",
        "from keras.layers import Dense\n",
        "from keras.layers import LSTM \n",
        "from keras.layers.embeddings import Embedding \n",
        "from keras.preprocessing import sequence"
      ],
      "execution_count": 14,
      "outputs": []
    },
    {
      "cell_type": "code",
      "metadata": {
        "id": "WoQ4ZXM516Bt",
        "colab_type": "code",
        "colab": {}
      },
      "source": [
        "np.random.seed(8)"
      ],
      "execution_count": 15,
      "outputs": []
    },
    {
      "cell_type": "code",
      "metadata": {
        "id": "V4XiHBMp28OT",
        "colab_type": "code",
        "colab": {
          "base_uri": "https://localhost:8080/",
          "height": 34
        },
        "outputId": "6966d579-0fae-4f76-b85e-6fa84bc14a22"
      },
      "source": [
        "top_words=6000\n",
        "(X_train, y_train), (X_test, y_test) =imdb.load_data(nb_words=top_words)"
      ],
      "execution_count": 16,
      "outputs": [
        {
          "output_type": "stream",
          "text": [
            "WARNING:tensorflow:The `nb_words` argument in `load_data` has been renamed `num_words`.\n"
          ],
          "name": "stdout"
        }
      ]
    },
    {
      "cell_type": "code",
      "metadata": {
        "id": "yeYkNIfh3Hc2",
        "colab_type": "code",
        "colab": {}
      },
      "source": [
        "max_review_length = 500 \n",
        "X_train = sequence.pad_sequences(X_train, maxlen=max_review_length)\n",
        "X_test = sequence.pad_sequences(X_test, maxlen=max_review_length)"
      ],
      "execution_count": 17,
      "outputs": []
    },
    {
      "cell_type": "code",
      "metadata": {
        "id": "IPY4C_hE3T9_",
        "colab_type": "code",
        "colab": {}
      },
      "source": [
        "embedding_vector_length = 32\n",
        "model = Sequential()\n",
        "model.add(Embedding(top_words, embedding_vector_length,input_length=max_review_length))\n",
        "model.add(LSTM(100))\n",
        "model.add(Dense(1, activation='sigmoid'))"
      ],
      "execution_count": 18,
      "outputs": []
    },
    {
      "cell_type": "code",
      "metadata": {
        "id": "Mdh7ctcv3Z6i",
        "colab_type": "code",
        "colab": {}
      },
      "source": [
        "model.compile(loss='binary_crossentropy',optimizer='adam',metrics=['accuracy'])\n"
      ],
      "execution_count": 19,
      "outputs": []
    },
    {
      "cell_type": "code",
      "metadata": {
        "id": "WbpLmlau3gOx",
        "colab_type": "code",
        "colab": {
          "base_uri": "https://localhost:8080/",
          "height": 269
        },
        "outputId": "42051605-4aa4-420b-db86-0de73ce3c9eb"
      },
      "source": [
        "print(model.summary())"
      ],
      "execution_count": 20,
      "outputs": [
        {
          "output_type": "stream",
          "text": [
            "Model: \"sequential_1\"\n",
            "_________________________________________________________________\n",
            "Layer (type)                 Output Shape              Param #   \n",
            "=================================================================\n",
            "embedding_1 (Embedding)      (None, 500, 32)           192000    \n",
            "_________________________________________________________________\n",
            "lstm_1 (LSTM)                (None, 100)               53200     \n",
            "_________________________________________________________________\n",
            "dense_1 (Dense)              (None, 1)                 101       \n",
            "=================================================================\n",
            "Total params: 245,301\n",
            "Trainable params: 245,301\n",
            "Non-trainable params: 0\n",
            "_________________________________________________________________\n",
            "None\n"
          ],
          "name": "stdout"
        }
      ]
    },
    {
      "cell_type": "code",
      "metadata": {
        "id": "zcPSifK-3hK2",
        "colab_type": "code",
        "colab": {
          "base_uri": "https://localhost:8080/",
          "height": 202
        },
        "outputId": "2b08eb4f-bfc3-461e-eea9-5b5742472585"
      },
      "source": [
        "model.fit(X_train, y_train,validation_data=(X_test, y_test),epochs=5, batch_size=64)\n",
        "scores = model.evaluate(X_test, y_test, verbose=0)\n",
        "print(\"Accuracy: %.2f%%\" % (scores[1]*100))"
      ],
      "execution_count": 21,
      "outputs": [
        {
          "output_type": "stream",
          "text": [
            "Epoch 1/5\n",
            "391/391 [==============================] - 284s 725ms/step - loss: 0.4804 - accuracy: 0.7536 - val_loss: 0.3433 - val_accuracy: 0.8588\n",
            "Epoch 2/5\n",
            "391/391 [==============================] - 280s 716ms/step - loss: 0.3208 - accuracy: 0.8664 - val_loss: 0.3362 - val_accuracy: 0.8642\n",
            "Epoch 3/5\n",
            "391/391 [==============================] - 281s 718ms/step - loss: 0.2450 - accuracy: 0.9046 - val_loss: 0.3895 - val_accuracy: 0.8432\n",
            "Epoch 4/5\n",
            "391/391 [==============================] - 279s 712ms/step - loss: 0.2068 - accuracy: 0.9211 - val_loss: 0.3921 - val_accuracy: 0.8504\n",
            "Epoch 5/5\n",
            "391/391 [==============================] - 279s 715ms/step - loss: 0.2205 - accuracy: 0.9165 - val_loss: 0.3760 - val_accuracy: 0.8472\n",
            "Accuracy: 84.72%\n"
          ],
          "name": "stdout"
        }
      ]
    },
    {
      "cell_type": "code",
      "metadata": {
        "id": "0BwPw5fd3nAX",
        "colab_type": "code",
        "colab": {}
      },
      "source": [
        ""
      ],
      "execution_count": null,
      "outputs": []
    }
  ]
}