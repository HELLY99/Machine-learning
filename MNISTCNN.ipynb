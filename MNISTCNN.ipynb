{
  "nbformat": 4,
  "nbformat_minor": 0,
  "metadata": {
    "colab": {
      "name": "MNISTCNN.ipynb",
      "provenance": []
    },
    "kernelspec": {
      "name": "python3",
      "display_name": "Python 3"
    }
  },
  "cells": [
    {
      "cell_type": "code",
      "metadata": {
        "id": "QvgovFUE0skt"
      },
      "source": [
        "import numpy as np\r\n",
        "import pandas as pd\r\n",
        "from keras.datasets import mnist\r\n",
        "import matplotlib.pyplot as plt\r\n",
        "from keras.utils import to_categorical\r\n",
        "from keras.models import Sequential\r\n",
        "from keras.layers import Conv2D,Dropout,Dense,Flatten,MaxPooling2D\r\n",
        "from keras.optimizers import Adam,SGD"
      ],
      "execution_count": 1,
      "outputs": []
    },
    {
      "cell_type": "code",
      "metadata": {
        "id": "AIXJXeqH04Wy"
      },
      "source": [
        "(x_train,y_train),(x_test,y_test) = mnist.load_data()"
      ],
      "execution_count": 2,
      "outputs": []
    },
    {
      "cell_type": "code",
      "metadata": {
        "colab": {
          "base_uri": "https://localhost:8080/"
        },
        "id": "F3_H02QA1HEa",
        "outputId": "e5ad5bd6-0656-4280-b94f-2a205e9adb7b"
      },
      "source": [
        "y_train[0]"
      ],
      "execution_count": 3,
      "outputs": [
        {
          "output_type": "execute_result",
          "data": {
            "text/plain": [
              "5"
            ]
          },
          "metadata": {
            "tags": []
          },
          "execution_count": 3
        }
      ]
    },
    {
      "cell_type": "code",
      "metadata": {
        "colab": {
          "base_uri": "https://localhost:8080/"
        },
        "id": "MtiEwAR01jiH",
        "outputId": "9b758425-b65a-4302-d61a-2e6a07e9930d"
      },
      "source": [
        "x_train"
      ],
      "execution_count": 4,
      "outputs": [
        {
          "output_type": "execute_result",
          "data": {
            "text/plain": [
              "array([[[0, 0, 0, ..., 0, 0, 0],\n",
              "        [0, 0, 0, ..., 0, 0, 0],\n",
              "        [0, 0, 0, ..., 0, 0, 0],\n",
              "        ...,\n",
              "        [0, 0, 0, ..., 0, 0, 0],\n",
              "        [0, 0, 0, ..., 0, 0, 0],\n",
              "        [0, 0, 0, ..., 0, 0, 0]],\n",
              "\n",
              "       [[0, 0, 0, ..., 0, 0, 0],\n",
              "        [0, 0, 0, ..., 0, 0, 0],\n",
              "        [0, 0, 0, ..., 0, 0, 0],\n",
              "        ...,\n",
              "        [0, 0, 0, ..., 0, 0, 0],\n",
              "        [0, 0, 0, ..., 0, 0, 0],\n",
              "        [0, 0, 0, ..., 0, 0, 0]],\n",
              "\n",
              "       [[0, 0, 0, ..., 0, 0, 0],\n",
              "        [0, 0, 0, ..., 0, 0, 0],\n",
              "        [0, 0, 0, ..., 0, 0, 0],\n",
              "        ...,\n",
              "        [0, 0, 0, ..., 0, 0, 0],\n",
              "        [0, 0, 0, ..., 0, 0, 0],\n",
              "        [0, 0, 0, ..., 0, 0, 0]],\n",
              "\n",
              "       ...,\n",
              "\n",
              "       [[0, 0, 0, ..., 0, 0, 0],\n",
              "        [0, 0, 0, ..., 0, 0, 0],\n",
              "        [0, 0, 0, ..., 0, 0, 0],\n",
              "        ...,\n",
              "        [0, 0, 0, ..., 0, 0, 0],\n",
              "        [0, 0, 0, ..., 0, 0, 0],\n",
              "        [0, 0, 0, ..., 0, 0, 0]],\n",
              "\n",
              "       [[0, 0, 0, ..., 0, 0, 0],\n",
              "        [0, 0, 0, ..., 0, 0, 0],\n",
              "        [0, 0, 0, ..., 0, 0, 0],\n",
              "        ...,\n",
              "        [0, 0, 0, ..., 0, 0, 0],\n",
              "        [0, 0, 0, ..., 0, 0, 0],\n",
              "        [0, 0, 0, ..., 0, 0, 0]],\n",
              "\n",
              "       [[0, 0, 0, ..., 0, 0, 0],\n",
              "        [0, 0, 0, ..., 0, 0, 0],\n",
              "        [0, 0, 0, ..., 0, 0, 0],\n",
              "        ...,\n",
              "        [0, 0, 0, ..., 0, 0, 0],\n",
              "        [0, 0, 0, ..., 0, 0, 0],\n",
              "        [0, 0, 0, ..., 0, 0, 0]]], dtype=uint8)"
            ]
          },
          "metadata": {
            "tags": []
          },
          "execution_count": 4
        }
      ]
    },
    {
      "cell_type": "code",
      "metadata": {
        "colab": {
          "base_uri": "https://localhost:8080/"
        },
        "id": "LeZ8hNAA3xLL",
        "outputId": "86984e92-1255-4e64-b4c4-6de04ffd261c"
      },
      "source": [
        "np.unique(y_train)"
      ],
      "execution_count": 5,
      "outputs": [
        {
          "output_type": "execute_result",
          "data": {
            "text/plain": [
              "array([0, 1, 2, 3, 4, 5, 6, 7, 8, 9], dtype=uint8)"
            ]
          },
          "metadata": {
            "tags": []
          },
          "execution_count": 5
        }
      ]
    },
    {
      "cell_type": "code",
      "metadata": {
        "colab": {
          "base_uri": "https://localhost:8080/",
          "height": 282
        },
        "id": "UcI7YnVu1Nqq",
        "outputId": "f6bd64e0-934c-4558-f665-0eb028b2db3e"
      },
      "source": [
        "plt.imshow(x_train[0])"
      ],
      "execution_count": 6,
      "outputs": [
        {
          "output_type": "execute_result",
          "data": {
            "text/plain": [
              "<matplotlib.image.AxesImage at 0x7fec0c098780>"
            ]
          },
          "metadata": {
            "tags": []
          },
          "execution_count": 6
        },
        {
          "output_type": "display_data",
          "data": {
            "image/png": "[encoded data removed]",
            "text/plain": [
              "<Figure size 432x288 with 1 Axes>"
            ]
          },
          "metadata": {
            "tags": [],
            "needs_background": "light"
          }
        }
      ]
    },
    {
      "cell_type": "code",
      "metadata": {
        "id": "nkYVsa9e1S9B"
      },
      "source": [
        "x_train=x_train.astype('float32')/255\r\n",
        "x_test=x_test.astype('float32')/255"
      ],
      "execution_count": 7,
      "outputs": []
    },
    {
      "cell_type": "code",
      "metadata": {
        "colab": {
          "base_uri": "https://localhost:8080/"
        },
        "id": "MoFTs4ad2uyi",
        "outputId": "8d014f86-d51a-4c68-f03a-3f1854d6269f"
      },
      "source": [
        "x_train[1].shape"
      ],
      "execution_count": 8,
      "outputs": [
        {
          "output_type": "execute_result",
          "data": {
            "text/plain": [
              "(28, 28)"
            ]
          },
          "metadata": {
            "tags": []
          },
          "execution_count": 8
        }
      ]
    },
    {
      "cell_type": "code",
      "metadata": {
        "id": "JtprPX1S27C_"
      },
      "source": [
        "y_train = to_categorical(y_train,10)"
      ],
      "execution_count": 9,
      "outputs": []
    },
    {
      "cell_type": "code",
      "metadata": {
        "id": "xlcWemqO3Yhl"
      },
      "source": [
        "y_test = to_categorical(y_test,10)"
      ],
      "execution_count": 10,
      "outputs": []
    },
    {
      "cell_type": "code",
      "metadata": {
        "colab": {
          "base_uri": "https://localhost:8080/"
        },
        "id": "2JIJfGn93slm",
        "outputId": "cb807400-55fc-45a8-c183-ed96161321eb"
      },
      "source": [
        "y_train[0]"
      ],
      "execution_count": 11,
      "outputs": [
        {
          "output_type": "execute_result",
          "data": {
            "text/plain": [
              "array([0., 0., 0., 0., 0., 1., 0., 0., 0., 0.], dtype=float32)"
            ]
          },
          "metadata": {
            "tags": []
          },
          "execution_count": 11
        }
      ]
    },
    {
      "cell_type": "code",
      "metadata": {
        "colab": {
          "base_uri": "https://localhost:8080/"
        },
        "id": "dS2-2Wio3ujy",
        "outputId": "202fd5b4-0f11-49f2-b81b-ccfe3c12fa58"
      },
      "source": [
        "y_test"
      ],
      "execution_count": 12,
      "outputs": [
        {
          "output_type": "execute_result",
          "data": {
            "text/plain": [
              "array([[0., 0., 0., ..., 1., 0., 0.],\n",
              "       [0., 0., 1., ..., 0., 0., 0.],\n",
              "       [0., 1., 0., ..., 0., 0., 0.],\n",
              "       ...,\n",
              "       [0., 0., 0., ..., 0., 0., 0.],\n",
              "       [0., 0., 0., ..., 0., 0., 0.],\n",
              "       [0., 0., 0., ..., 0., 0., 0.]], dtype=float32)"
            ]
          },
          "metadata": {
            "tags": []
          },
          "execution_count": 12
        }
      ]
    },
    {
      "cell_type": "code",
      "metadata": {
        "id": "kspn1NX9CWb2"
      },
      "source": [
        "x_train = np.expand_dims(x_train, -1)\r\n",
        "x_test = np.expand_dims(x_test, -1)"
      ],
      "execution_count": 13,
      "outputs": []
    },
    {
      "cell_type": "code",
      "metadata": {
        "id": "DIx_u_Nu8BGh"
      },
      "source": [
        "model = Sequential()\r\n",
        "model.add(Conv2D(32, (3, 3), activation='relu', input_shape=(28, 28, 1)))\r\n",
        "model.add(MaxPooling2D((2, 2)))\r\n",
        "model.add(Conv2D(64,(3,3),activation='relu'))\r\n",
        "model.add(MaxPooling2D((2,2)))\r\n",
        "model.add(Flatten())\r\n",
        "model.add(Dropout(0.2))\r\n",
        "model.add(Dense(10, activation='softmax'))\r\n",
        "model.compile(optimizer='Adam', loss='categorical_crossentropy', metrics=['accuracy']) "
      ],
      "execution_count": 14,
      "outputs": []
    },
    {
      "cell_type": "code",
      "metadata": {
        "colab": {
          "base_uri": "https://localhost:8080/"
        },
        "id": "EHOUMQhb8UXr",
        "outputId": "8f7ac5ed-b9c7-44c1-ab57-c3ef2ac3e5e2"
      },
      "source": [
        "model.fit(x_train,y_train,batch_size=64,epochs=12,verbose=1)"
      ],
      "execution_count": 15,
      "outputs": [
        {
          "output_type": "stream",
          "text": [
            "Epoch 1/12\n",
            "938/938 [==============================] - 47s 49ms/step - loss: 0.4895 - accuracy: 0.8546\n",
            "Epoch 2/12\n",
            "938/938 [==============================] - 45s 48ms/step - loss: 0.0830 - accuracy: 0.9753\n",
            "Epoch 3/12\n",
            "938/938 [==============================] - 46s 49ms/step - loss: 0.0570 - accuracy: 0.9825\n",
            "Epoch 4/12\n",
            "938/938 [==============================] - 46s 49ms/step - loss: 0.0425 - accuracy: 0.9871\n",
            "Epoch 5/12\n",
            "938/938 [==============================] - 46s 49ms/step - loss: 0.0387 - accuracy: 0.9885\n",
            "Epoch 6/12\n",
            "938/938 [==============================] - 46s 49ms/step - loss: 0.0307 - accuracy: 0.9908\n",
            "Epoch 7/12\n",
            "938/938 [==============================] - 45s 48ms/step - loss: 0.0273 - accuracy: 0.9909\n",
            "Epoch 8/12\n",
            "938/938 [==============================] - 45s 48ms/step - loss: 0.0258 - accuracy: 0.9916\n",
            "Epoch 9/12\n",
            "938/938 [==============================] - 44s 47ms/step - loss: 0.0216 - accuracy: 0.9932\n",
            "Epoch 10/12\n",
            "938/938 [==============================] - 44s 47ms/step - loss: 0.0177 - accuracy: 0.9941\n",
            "Epoch 11/12\n",
            "938/938 [==============================] - 44s 47ms/step - loss: 0.0159 - accuracy: 0.9945\n",
            "Epoch 12/12\n",
            "938/938 [==============================] - 45s 48ms/step - loss: 0.0146 - accuracy: 0.9953\n"
          ],
          "name": "stdout"
        },
        {
          "output_type": "execute_result",
          "data": {
            "text/plain": [
              "<tensorflow.python.keras.callbacks.History at 0x7fec0c8f5da0>"
            ]
          },
          "metadata": {
            "tags": []
          },
          "execution_count": 15
        }
      ]
    },
    {
      "cell_type": "code",
      "metadata": {
        "id": "Lao9LTP7CC-w"
      },
      "source": [
        ""
      ],
      "execution_count": 15,
      "outputs": []
    }
  ]
}